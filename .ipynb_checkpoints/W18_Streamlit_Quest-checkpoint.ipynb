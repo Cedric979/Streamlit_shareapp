{
 "cells": [
  {
   "cell_type": "code",
   "execution_count": 60,
   "id": "437b27a4",
   "metadata": {},
   "outputs": [],
   "source": [
    "import pandas as pd\n",
    "import numpy as np\n",
    "import seaborn as sns\n",
    "import matplotlib as plt\n",
    "import streamlit as st"
   ]
  },
  {
   "cell_type": "code",
   "execution_count": 61,
   "id": "b1cafd62",
   "metadata": {},
   "outputs": [
    {
     "name": "stdout",
     "output_type": "stream",
     "text": [
      "\n",
      "INSTALLED VERSIONS\n",
      "------------------\n",
      "commit           : 945c9ed766a61c7d2c0a7cbb251b6edebf9cb7d5\n",
      "python           : 3.8.12.final.0\n",
      "python-bits      : 64\n",
      "OS               : Darwin\n",
      "OS-release       : 20.6.0\n",
      "Version          : Darwin Kernel Version 20.6.0: Mon Aug 30 06:12:20 PDT 2021; root:xnu-7195.141.6~3/RELEASE_ARM64_T8101\n",
      "machine          : x86_64\n",
      "processor        : i386\n",
      "byteorder        : little\n",
      "LC_ALL           : en_US.UTF-8\n",
      "LANG             : en_US.UTF-8\n",
      "LOCALE           : en_US.UTF-8\n",
      "\n",
      "pandas           : 1.3.4\n",
      "numpy            : 1.20.3\n",
      "pytz             : 2021.3\n",
      "dateutil         : 2.8.2\n",
      "pip              : 21.2.4\n",
      "setuptools       : 58.0.4\n",
      "Cython           : None\n",
      "pytest           : 6.2.5\n",
      "hypothesis       : None\n",
      "sphinx           : 4.2.0\n",
      "blosc            : None\n",
      "feather          : None\n",
      "xlsxwriter       : None\n",
      "lxml.etree       : 4.6.4\n",
      "html5lib         : None\n",
      "pymysql          : None\n",
      "psycopg2         : None\n",
      "jinja2           : 2.11.3\n",
      "IPython          : 7.29.0\n",
      "pandas_datareader: 0.10.0\n",
      "bs4              : None\n",
      "bottleneck       : 1.3.2\n",
      "fsspec           : 2021.10.1\n",
      "fastparquet      : None\n",
      "gcsfs            : None\n",
      "matplotlib       : 3.5.0\n",
      "numexpr          : 2.7.3\n",
      "odfpy            : None\n",
      "openpyxl         : 3.0.9\n",
      "pandas_gbq       : None\n",
      "pyarrow          : 6.0.1\n",
      "pyxlsb           : 1.0.9\n",
      "s3fs             : None\n",
      "scipy            : 1.7.1\n",
      "sqlalchemy       : 1.4.27\n",
      "tables           : None\n",
      "tabulate         : None\n",
      "xarray           : None\n",
      "xlrd             : 2.0.1\n",
      "xlwt             : None\n",
      "numba            : 0.54.1\n"
     ]
    }
   ],
   "source": [
    "pd.show_versions(as_json=False)"
   ]
  },
  {
   "cell_type": "code",
   "execution_count": 55,
   "id": "c12b0848",
   "metadata": {},
   "outputs": [
    {
     "name": "stdout",
     "output_type": "stream",
     "text": [
      "Streamlit, version 1.2.0\r\n"
     ]
    }
   ],
   "source": [
    "! streamlit --version"
   ]
  },
  {
   "cell_type": "code",
   "execution_count": 58,
   "id": "ff043ae0",
   "metadata": {},
   "outputs": [
    {
     "data": {
      "text/plain": [
       "'0.11.2'"
      ]
     },
     "execution_count": 58,
     "metadata": {},
     "output_type": "execute_result"
    }
   ],
   "source": [
    "sns.__version__"
   ]
  },
  {
   "cell_type": "code",
   "execution_count": 3,
   "id": "1eb623ee",
   "metadata": {},
   "outputs": [],
   "source": [
    "link = \"https://raw.githubusercontent.com/murpi/wilddata/master/quests/cars.csv\"\n",
    "df = pd.read_csv(link)"
   ]
  },
  {
   "cell_type": "code",
   "execution_count": 8,
   "id": "c23c8026",
   "metadata": {},
   "outputs": [
    {
     "name": "stdout",
     "output_type": "stream",
     "text": [
      "<class 'pandas.core.frame.DataFrame'>\n",
      "RangeIndex: 261 entries, 0 to 260\n",
      "Data columns (total 8 columns):\n",
      " #   Column       Non-Null Count  Dtype  \n",
      "---  ------       --------------  -----  \n",
      " 0   mpg          261 non-null    float64\n",
      " 1   cylinders    261 non-null    int64  \n",
      " 2   cubicinches  261 non-null    int64  \n",
      " 3   hp           261 non-null    int64  \n",
      " 4   weightlbs    261 non-null    int64  \n",
      " 5   time-to-60   261 non-null    int64  \n",
      " 6   year         261 non-null    int64  \n",
      " 7   continent    261 non-null    object \n",
      "dtypes: float64(1), int64(6), object(1)\n",
      "memory usage: 16.4+ KB\n"
     ]
    },
    {
     "data": {
      "text/html": [
       "<div>\n",
       "<style scoped>\n",
       "    .dataframe tbody tr th:only-of-type {\n",
       "        vertical-align: middle;\n",
       "    }\n",
       "\n",
       "    .dataframe tbody tr th {\n",
       "        vertical-align: top;\n",
       "    }\n",
       "\n",
       "    .dataframe thead th {\n",
       "        text-align: right;\n",
       "    }\n",
       "</style>\n",
       "<table border=\"1\" class=\"dataframe\">\n",
       "  <thead>\n",
       "    <tr style=\"text-align: right;\">\n",
       "      <th></th>\n",
       "      <th>mpg</th>\n",
       "      <th>cylinders</th>\n",
       "      <th>cubicinches</th>\n",
       "      <th>hp</th>\n",
       "      <th>weightlbs</th>\n",
       "      <th>time-to-60</th>\n",
       "      <th>year</th>\n",
       "    </tr>\n",
       "  </thead>\n",
       "  <tbody>\n",
       "    <tr>\n",
       "      <th>count</th>\n",
       "      <td>261.000000</td>\n",
       "      <td>261.000000</td>\n",
       "      <td>261.000000</td>\n",
       "      <td>261.000000</td>\n",
       "      <td>261.000000</td>\n",
       "      <td>261.000000</td>\n",
       "      <td>261.000000</td>\n",
       "    </tr>\n",
       "    <tr>\n",
       "      <th>mean</th>\n",
       "      <td>23.144828</td>\n",
       "      <td>5.590038</td>\n",
       "      <td>200.877395</td>\n",
       "      <td>106.360153</td>\n",
       "      <td>3009.375479</td>\n",
       "      <td>15.547893</td>\n",
       "      <td>1976.819923</td>\n",
       "    </tr>\n",
       "    <tr>\n",
       "      <th>std</th>\n",
       "      <td>7.823570</td>\n",
       "      <td>1.733310</td>\n",
       "      <td>108.839368</td>\n",
       "      <td>40.499959</td>\n",
       "      <td>849.124991</td>\n",
       "      <td>2.910625</td>\n",
       "      <td>3.637696</td>\n",
       "    </tr>\n",
       "    <tr>\n",
       "      <th>min</th>\n",
       "      <td>10.000000</td>\n",
       "      <td>3.000000</td>\n",
       "      <td>68.000000</td>\n",
       "      <td>46.000000</td>\n",
       "      <td>1613.000000</td>\n",
       "      <td>8.000000</td>\n",
       "      <td>1971.000000</td>\n",
       "    </tr>\n",
       "    <tr>\n",
       "      <th>25%</th>\n",
       "      <td>16.900000</td>\n",
       "      <td>4.000000</td>\n",
       "      <td>101.000000</td>\n",
       "      <td>75.000000</td>\n",
       "      <td>2254.000000</td>\n",
       "      <td>14.000000</td>\n",
       "      <td>1974.000000</td>\n",
       "    </tr>\n",
       "    <tr>\n",
       "      <th>50%</th>\n",
       "      <td>22.000000</td>\n",
       "      <td>6.000000</td>\n",
       "      <td>156.000000</td>\n",
       "      <td>95.000000</td>\n",
       "      <td>2900.000000</td>\n",
       "      <td>16.000000</td>\n",
       "      <td>1977.000000</td>\n",
       "    </tr>\n",
       "    <tr>\n",
       "      <th>75%</th>\n",
       "      <td>28.800000</td>\n",
       "      <td>8.000000</td>\n",
       "      <td>302.000000</td>\n",
       "      <td>138.000000</td>\n",
       "      <td>3664.000000</td>\n",
       "      <td>17.000000</td>\n",
       "      <td>1980.000000</td>\n",
       "    </tr>\n",
       "    <tr>\n",
       "      <th>max</th>\n",
       "      <td>46.600000</td>\n",
       "      <td>8.000000</td>\n",
       "      <td>455.000000</td>\n",
       "      <td>230.000000</td>\n",
       "      <td>4997.000000</td>\n",
       "      <td>25.000000</td>\n",
       "      <td>1983.000000</td>\n",
       "    </tr>\n",
       "  </tbody>\n",
       "</table>\n",
       "</div>"
      ],
      "text/plain": [
       "              mpg   cylinders  cubicinches          hp    weightlbs  \\\n",
       "count  261.000000  261.000000   261.000000  261.000000   261.000000   \n",
       "mean    23.144828    5.590038   200.877395  106.360153  3009.375479   \n",
       "std      7.823570    1.733310   108.839368   40.499959   849.124991   \n",
       "min     10.000000    3.000000    68.000000   46.000000  1613.000000   \n",
       "25%     16.900000    4.000000   101.000000   75.000000  2254.000000   \n",
       "50%     22.000000    6.000000   156.000000   95.000000  2900.000000   \n",
       "75%     28.800000    8.000000   302.000000  138.000000  3664.000000   \n",
       "max     46.600000    8.000000   455.000000  230.000000  4997.000000   \n",
       "\n",
       "       time-to-60         year  \n",
       "count  261.000000   261.000000  \n",
       "mean    15.547893  1976.819923  \n",
       "std      2.910625     3.637696  \n",
       "min      8.000000  1971.000000  \n",
       "25%     14.000000  1974.000000  \n",
       "50%     16.000000  1977.000000  \n",
       "75%     17.000000  1980.000000  \n",
       "max     25.000000  1983.000000  "
      ]
     },
     "execution_count": 8,
     "metadata": {},
     "output_type": "execute_result"
    }
   ],
   "source": [
    "df.info()\n",
    "df.isna().sum()\n",
    "df.describe()"
   ]
  },
  {
   "cell_type": "code",
   "execution_count": 9,
   "id": "1351c6da",
   "metadata": {},
   "outputs": [
    {
     "data": {
      "text/html": [
       "<div>\n",
       "<style scoped>\n",
       "    .dataframe tbody tr th:only-of-type {\n",
       "        vertical-align: middle;\n",
       "    }\n",
       "\n",
       "    .dataframe tbody tr th {\n",
       "        vertical-align: top;\n",
       "    }\n",
       "\n",
       "    .dataframe thead th {\n",
       "        text-align: right;\n",
       "    }\n",
       "</style>\n",
       "<table border=\"1\" class=\"dataframe\">\n",
       "  <thead>\n",
       "    <tr style=\"text-align: right;\">\n",
       "      <th></th>\n",
       "      <th>mpg</th>\n",
       "      <th>cylinders</th>\n",
       "      <th>cubicinches</th>\n",
       "      <th>hp</th>\n",
       "      <th>weightlbs</th>\n",
       "      <th>time-to-60</th>\n",
       "      <th>year</th>\n",
       "      <th>continent</th>\n",
       "    </tr>\n",
       "  </thead>\n",
       "  <tbody>\n",
       "    <tr>\n",
       "      <th>0</th>\n",
       "      <td>14.0</td>\n",
       "      <td>8</td>\n",
       "      <td>350</td>\n",
       "      <td>165</td>\n",
       "      <td>4209</td>\n",
       "      <td>12</td>\n",
       "      <td>1972</td>\n",
       "      <td>US.</td>\n",
       "    </tr>\n",
       "    <tr>\n",
       "      <th>1</th>\n",
       "      <td>31.9</td>\n",
       "      <td>4</td>\n",
       "      <td>89</td>\n",
       "      <td>71</td>\n",
       "      <td>1925</td>\n",
       "      <td>14</td>\n",
       "      <td>1980</td>\n",
       "      <td>Europe.</td>\n",
       "    </tr>\n",
       "    <tr>\n",
       "      <th>2</th>\n",
       "      <td>17.0</td>\n",
       "      <td>8</td>\n",
       "      <td>302</td>\n",
       "      <td>140</td>\n",
       "      <td>3449</td>\n",
       "      <td>11</td>\n",
       "      <td>1971</td>\n",
       "      <td>US.</td>\n",
       "    </tr>\n",
       "    <tr>\n",
       "      <th>3</th>\n",
       "      <td>15.0</td>\n",
       "      <td>8</td>\n",
       "      <td>400</td>\n",
       "      <td>150</td>\n",
       "      <td>3761</td>\n",
       "      <td>10</td>\n",
       "      <td>1971</td>\n",
       "      <td>US.</td>\n",
       "    </tr>\n",
       "    <tr>\n",
       "      <th>4</th>\n",
       "      <td>30.5</td>\n",
       "      <td>4</td>\n",
       "      <td>98</td>\n",
       "      <td>63</td>\n",
       "      <td>2051</td>\n",
       "      <td>17</td>\n",
       "      <td>1978</td>\n",
       "      <td>US.</td>\n",
       "    </tr>\n",
       "  </tbody>\n",
       "</table>\n",
       "</div>"
      ],
      "text/plain": [
       "    mpg  cylinders  cubicinches   hp  weightlbs  time-to-60  year continent\n",
       "0  14.0          8          350  165       4209          12  1972       US.\n",
       "1  31.9          4           89   71       1925          14  1980   Europe.\n",
       "2  17.0          8          302  140       3449          11  1971       US.\n",
       "3  15.0          8          400  150       3761          10  1971       US.\n",
       "4  30.5          4           98   63       2051          17  1978       US."
      ]
     },
     "execution_count": 9,
     "metadata": {},
     "output_type": "execute_result"
    }
   ],
   "source": [
    "df.head()"
   ]
  },
  {
   "cell_type": "code",
   "execution_count": 22,
   "id": "09480f6e",
   "metadata": {},
   "outputs": [
    {
     "data": {
      "image/png": "[encoded data removed]",
      "text/plain": [
       "<Figure size 432x288 with 2 Axes>"
      ]
     },
     "metadata": {
      "needs_background": "light"
     },
     "output_type": "display_data"
    }
   ],
   "source": [
    "cars_heatmap = sns.heatmap(df.corr(),cmap=\"YlGnBu\", center=0)"
   ]
  },
  {
   "cell_type": "code",
   "execution_count": 23,
   "id": "c441b8f2",
   "metadata": {},
   "outputs": [
    {
     "data": {
      "image/png": "[encoded data removed]",
      "text/plain": [
       "<Figure size 432x288 with 1 Axes>"
      ]
     },
     "metadata": {
      "needs_background": "light"
     },
     "output_type": "display_data"
    }
   ],
   "source": [
    "#MilesPerGallon\n",
    "cars_mpg = sns.histplot(data=df,x='mpg')"
   ]
  },
  {
   "cell_type": "code",
   "execution_count": 24,
   "id": "44564afb",
   "metadata": {},
   "outputs": [
    {
     "data": {
      "image/png": "[encoded data removed]",
      "text/plain": [
       "<Figure size 432x288 with 1 Axes>"
      ]
     },
     "metadata": {
      "needs_background": "light"
     },
     "output_type": "display_data"
    }
   ],
   "source": [
    "#CubeInches\n",
    "cars_cubeinches = sns.histplot(data=df,x='cubicinches')"
   ]
  },
  {
   "cell_type": "code",
   "execution_count": 25,
   "id": "aed39b09",
   "metadata": {},
   "outputs": [
    {
     "data": {
      "image/png": "[encoded data removed]",
      "text/plain": [
       "<Figure size 432x288 with 1 Axes>"
      ]
     },
     "metadata": {
      "needs_background": "light"
     },
     "output_type": "display_data"
    }
   ],
   "source": [
    "#HorsePower\n",
    "cars_hp = sns.histplot(data=df,x='hp')"
   ]
  },
  {
   "cell_type": "code",
   "execution_count": 26,
   "id": "b1b6017f",
   "metadata": {},
   "outputs": [
    {
     "data": {
      "image/png": "[encoded data removed]",
      "text/plain": [
       "<Figure size 432x288 with 1 Axes>"
      ]
     },
     "metadata": {
      "needs_background": "light"
     },
     "output_type": "display_data"
    }
   ],
   "source": [
    "#Years\n",
    "cars_years = sns.histplot(data=df,x='year')"
   ]
  },
  {
   "cell_type": "code",
   "execution_count": 27,
   "id": "442d0547",
   "metadata": {},
   "outputs": [
    {
     "data": {
      "image/png": "[encoded data removed]",
      "text/plain": [
       "<Figure size 432x288 with 1 Axes>"
      ]
     },
     "metadata": {
      "needs_background": "light"
     },
     "output_type": "display_data"
    }
   ],
   "source": [
    "#years\n",
    "cars_years = sns.histplot(data=df,x='continent')"
   ]
  },
  {
   "cell_type": "code",
   "execution_count": 29,
   "id": "c48ab170",
   "metadata": {},
   "outputs": [
    {
     "data": {
      "text/plain": [
       "<AxesSubplot:xlabel='hp', ylabel='weightlbs'>"
      ]
     },
     "execution_count": 29,
     "metadata": {},
     "output_type": "execute_result"
    },
    {
     "data": {
      "image/png": "[encoded data removed]",
      "text/plain": [
       "<Figure size 432x288 with 1 Axes>"
      ]
     },
     "metadata": {
      "needs_background": "light"
     },
     "output_type": "display_data"
    }
   ],
   "source": [
    "#Scatter hp & weightlbs\n",
    "sns.scatterplot(data=df,x='hp',y='weightlbs')"
   ]
  },
  {
   "cell_type": "code",
   "execution_count": 36,
   "id": "2e4878ba",
   "metadata": {},
   "outputs": [
    {
     "data": {
      "text/plain": [
       "[' US.', ' Japan.', ' Europe.', 'ALL']"
      ]
     },
     "execution_count": 36,
     "metadata": {},
     "output_type": "execute_result"
    }
   ],
   "source": [
    "continent_list = list(df['continent'].value_counts().keys())\n",
    "continent_list.append('ALL')\n",
    "continent_list"
   ]
  },
  {
   "cell_type": "code",
   "execution_count": 35,
   "id": "ac0370bc",
   "metadata": {},
   "outputs": [
    {
     "data": {
      "text/plain": [
       "[1974,\n",
       " 1977,\n",
       " 1971,\n",
       " 1976,\n",
       " 1980,\n",
       " 1979,\n",
       " 1978,\n",
       " 1982,\n",
       " 1981,\n",
       " 1983,\n",
       " 1973,\n",
       " 1972,\n",
       " 1975,\n",
       " 'ALL']"
      ]
     },
     "execution_count": 35,
     "metadata": {},
     "output_type": "execute_result"
    }
   ],
   "source": [
    "year_list = list(df['year'].value_counts().keys())\n",
    "year_list.append('ALL')\n",
    "year_list"
   ]
  },
  {
   "cell_type": "code",
   "execution_count": null,
   "id": "d026a486",
   "metadata": {},
   "outputs": [],
   "source": []
  },
  {
   "cell_type": "code",
   "execution_count": null,
   "id": "4157bd68",
   "metadata": {},
   "outputs": [],
   "source": [
    "#streamlit code\n",
    "#!/usr/bin/env python\n",
    "# coding: utf-8\n",
    "\n",
    "import pandas as pd\n",
    "import numpy as np\n",
    "import seaborn as sns\n",
    "import matplotlib as plt\n",
    "import streamlit as st\n",
    "import plotly.express as px\n",
    "\n",
    "\n",
    "#Changing the background with an image that has to be in the same folder\n",
    "import base64\n",
    "main_bg = \"image_app.jpeg\"\n",
    "main_bg_ext = \"jpeg\"\n",
    "\n",
    "side_bg = \"image_app.jpeg\"\n",
    "side_bg_ext = \"jpeg\"\n",
    "\n",
    "st.markdown(\n",
    "    f\"\"\"\n",
    "    <style>\n",
    "    .reportview-container {{\n",
    "        background: url(data:image/{main_bg_ext};base64,{base64.b64encode(open(main_bg, \"rb\").read()).decode()});\n",
    "        background-size: 100% 100%\n",
    "    }}\n",
    "   .sidebar.sidebar-content {{\n",
    "        background: url(data:image/{side_bg_ext};base64,{base64.b64encode(open(side_bg, \"rb\").read()).decode()});\n",
    "        background-size: 100% 100%\n",
    "    }}\n",
    "    </style>\n",
    "    \n",
    "    \"\"\",\n",
    "    unsafe_allow_html=True\n",
    ")\n",
    "\n",
    "#Defining the title\n",
    "st.title(\"Let's display some stats on cars by continent\")\n",
    "\n",
    "#Openning the DF\n",
    "link = \"https://raw.githubusercontent.com/murpi/wilddata/master/quests/cars.csv\"\n",
    "df_full = pd.read_csv(link)\n",
    "\n",
    "#Building the filtering continent list\n",
    "continent_list = list(df_full['continent'].value_counts().keys())\n",
    "continent_list.append('ALL')\n",
    "\n",
    "#Building the year slider selection\n",
    "year_list = list(df_full['year'].value_counts().keys())\n",
    "year_list.append('ALL')\n",
    "\n",
    "#Defining the selectbox\n",
    "label1 = \"please select the continent you would like to filter\"\n",
    "continent_choosen = st.selectbox(label1,continent_list)\n",
    "\n",
    "#Asking the user the Price and the Range\n",
    "# Add a slider to the sidebar:\n",
    "year_slider = st.sidebar.slider('Reduce the year range if you want to reduce the scope',1971, 1983, (1971,1983))\n",
    "\n",
    "#Define the validation button\n",
    "if st.button(\"Get Cars's statisctics\"):\n",
    "    if continent_choosen != 'ALL':\n",
    "        continent_condition = df_full['continent'] == continent_choosen\n",
    "        df1 = df_full[continent_condition]\n",
    "    else:\n",
    "        df1 = df_full\n",
    "    if year_slider != 'ALL':\n",
    "        year_condition1 = df_full['year'] >= year_slider[0]\n",
    "        year_condition2 = df_full['year'] <= year_slider[1]\n",
    "        df2 = df1[year_condition1 & year_condition2]\n",
    "    else:\n",
    "        df2=df1\n",
    "    st.write(\"You selected cars years between\",year_slider,\"from this/these continent\",continent_choosen)\n",
    "    st.write(df2)\n",
    "    cars_heatmap = sns.heatmap(df2.corr(),cmap=\"YlGnBu\", center=0)\n",
    "    #MilesPerGallon\n",
    "    cars_mpg = sns.histplot(data=df2,x='mpg')\n",
    "    #MilesPerGallon\n",
    "    cars_mpg = sns.histplot(data=df2,x='mpg')\n",
    "    #CubeInches\n",
    "    cars_cubeinches = sns.histplot(data=df2,x='cubicinches')\n",
    "    #HorsePower\n",
    "    cars_hp = sns.histplot(data=df2,x='hp')\n",
    "    #Years\n",
    "    cars_years = sns.histplot(data=df2,x='year')\n",
    "    #Scatter hp & weightlbs\n",
    "    sns.scatterplot(data=df2,x='hp',y='weightlbs')\n",
    "    #Plotting\n",
    "    st.write()\n",
    "    with st.expander('Please expand to see the plot'):\n",
    "        st.title(\"below the heatmap for the selected cars\")\n",
    "        st.pyplot(fig=cars_heatmap.figure,clear_figure=True)\n",
    "        st.write()\n",
    "    \n",
    "    with st.expander('Please expand to see the plot'):\n",
    "        import matplotlib.pyplot as plt\n",
    "        import seaborn as sns\n",
    "        st.title(\"Horse Power distribution\")\n",
    "        fig = plt.figure()\n",
    "        sns.histplot(data=df2,x='hp')\n",
    "        st.write(fig)\n",
    "\n",
    "    with st.expander('Please expand to see the plot'):\n",
    "        import plotly.express as px\n",
    "        st.title(\"Time to 60 & Horse Power animated over the years grouped by continent scatter plot\")\n",
    "        fig = px.scatter(df2,\n",
    "            x=df2[\"time-to-60\"],\n",
    "            y=df2[\"hp\"],\n",
    "            color=\"continent\",\n",
    "            animation_frame=\"year\",\n",
    "            range_x=[8,25], range_y=[46,230]\n",
    "        )\n",
    "        fig.update_layout(\n",
    "            xaxis_title=\"Time to 60\",\n",
    "            yaxis_title=\"Horse Power\",\n",
    "        )\n",
    "\n",
    "        st.write(fig)\n",
    "        \n",
    "    with st.expander('Please expand to see the plot'):\n",
    "        import plotly.express as px\n",
    "        st.title(\"Horse Power by year with continent grouping\")\n",
    "        fig = px.scatter(df2,\n",
    "            x=df2[\"year\"],\n",
    "            y=df2[\"hp\"],\n",
    "            color=\"continent\",\n",
    "        )\n",
    "        fig.update_layout(\n",
    "            xaxis_title=\"year\",\n",
    "            yaxis_title=\"Horse Power\",\n",
    "        )\n",
    "\n",
    "        st.write(fig)\n",
    "if st.button(\"Last button to click\"):\n",
    "    st.write(\"Thank you for checking my streamlit app ;-), Hope you liked it!\")\n"
   ]
  }
 ],
 "metadata": {
  "kernelspec": {
   "display_name": "Python 3 (ipykernel)",
   "language": "python",
   "name": "python3"
  },
  "language_info": {
   "codemirror_mode": {
    "name": "ipython",
    "version": 3
   },
   "file_extension": ".py",
   "mimetype": "text/x-python",
   "name": "python",
   "nbconvert_exporter": "python",
   "pygments_lexer": "ipython3",
   "version": "3.8.12"
  }
 },
 "nbformat": 4,
 "nbformat_minor": 5
}
